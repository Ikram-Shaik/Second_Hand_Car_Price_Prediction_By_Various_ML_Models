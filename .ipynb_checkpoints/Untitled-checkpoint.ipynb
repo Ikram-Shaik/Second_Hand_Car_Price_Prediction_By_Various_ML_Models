{
 "cells": [
  {
   "cell_type": "code",
   "execution_count": null,
   "id": "336dc4d7-a0c9-4d17-a510-04433278ceda",
   "metadata": {},
   "outputs": [
    {
     "name": "stdout",
     "output_type": "stream",
     "text": [
      "\n",
      "Select a model to predict the car price:\n",
      "1. Linear Regression\n",
      "2. Ridge Regression\n",
      "3. Lasso Regression\n",
      "4. Decision Tree\n",
      "5. Random Forest\n",
      "6. XGBoost\n",
      "7. Gradient Boosting\n",
      "8. Elastic Net\n"
     ]
    },
    {
     "name": "stdin",
     "output_type": "stream",
     "text": [
      "Enter your choice (1-7):  1\n"
     ]
    },
    {
     "name": "stdout",
     "output_type": "stream",
     "text": [
      "\n",
      "📦 Loading Linear Regression from models/linear_regression.pkl...\n",
      "['brand' 'model' 'year' 'km_driven' 'fuel_type' 'transmission_type'\n",
      " 'mileage']\n",
      "\n",
      "🔢 Enter car details to predict price:\n"
     ]
    }
   ],
   "source": [
    "import pickle\n",
    "import numpy as np\n",
    "import pandas as pd\n",
    "\n",
    "# Define model paths\n",
    "model_paths = {\n",
    "    '1': ('Linear Regression', 'models/linear_regression.pkl'),\n",
    "    '2': ('Ridge Regression', 'models/ridge_model.pkl'),\n",
    "    '3': ('Lasso Regression', 'models/lasso_model.pkl'),\n",
    "    '4': ('Decision Tree', 'models/dt_model.pkl'),\n",
    "    '5': ('Random Forest', 'models/rf_model.pkl'),\n",
    "    '6': ('XGBoost', 'models/xgb_model.pkl'),\n",
    "    '7': ('Gradient Boosting', 'models/gbr_model.pkl'),\n",
    "    '8': ('Elastic Net', 'models/elasticnet_model.pkl')\n",
    "}\n",
    "\n",
    "# Show choices to user\n",
    "print(\"\\nSelect a model to predict the car price:\")\n",
    "for key, (name, _) in model_paths.items():\n",
    "    print(f\"{key}. {name}\")\n",
    "\n",
    "choice = input(\"Enter your choice (1-7): \").strip()\n",
    "\n",
    "if choice not in model_paths:\n",
    "    print(\"❌ Invalid choice.\")\n",
    "    exit()\n",
    "\n",
    "model_name, model_file = model_paths[choice]\n",
    "\n",
    "# Load model (joblib or pickle based on extension)\n",
    "print(f\"\\n📦 Loading {model_name} from {model_file}...\")\n",
    "if model_file.endswith('.joblib'):\n",
    "    model = joblib.load(model_file)\n",
    "else:\n",
    "    with open(model_file, 'rb') as f:\n",
    "        model = pickle.load(f)\n",
    "\n",
    "print(model)\n",
    "\n",
    "# User input (you can later turn this into argparse or GUI)\n",
    "print(\"\\n🔢 Enter car details to predict price:\")\n",
    "brand = input(\"Brand: \")\n",
    "model_name_input = input(\"Model: \")\n",
    "year = int(input(\"Year: \"))\n",
    "km_driven = int(input(\"KM Driven: \"))\n",
    "fuel_type = input(\"Fuel Type (Petrol/Diesel/CNG/LPG): \")\n",
    "transmission = input(\"Transmission (Manual/Automatic): \")\n",
    "mileage = float(input(\"Mileage (e.g. 21.5): \"))\n",
    "\n",
    "# Format the input sample2\n",
    "\n",
    "sample = pd.DataFrame([{\n",
    "    'brand': brand,\n",
    "    'model': model_name_input,  # string type\n",
    "    'year': year,\n",
    "    'km_driven': km_driven,\n",
    "    'fuel_type': fuel_type,\n",
    "    'transmission_type': transmission,\n",
    "    'mileage': mileage\n",
    "}])\n",
    "\n",
    "\n",
    "# Predict\n",
    "predicted_price = model.predict(sample)[0]\n",
    "print(f\"\\n💰 Predicted Selling Price: ₹{round(predicted_price):,}\")"
   ]
  },
  {
   "cell_type": "code",
   "execution_count": null,
   "id": "28d4e38b-9137-4199-a39a-846684c7c1d9",
   "metadata": {},
   "outputs": [],
   "source": [
    "with open('linear_model','rb') as f:\n",
    "    model = pickle.load(f)"
   ]
  },
  {
   "cell_type": "code",
   "execution_count": null,
   "id": "5809545f-53a2-4f1d-8145-d1fdd0614956",
   "metadata": {},
   "outputs": [],
   "source": [
    "model"
   ]
  },
  {
   "cell_type": "code",
   "execution_count": null,
   "id": "9a01b5e3-dc27-4fe8-ac63-867fff39effa",
   "metadata": {},
   "outputs": [],
   "source": []
  }
 ],
 "metadata": {
  "kernelspec": {
   "display_name": "Python 3 (ipykernel)",
   "language": "python",
   "name": "python3"
  },
  "language_info": {
   "codemirror_mode": {
    "name": "ipython",
    "version": 3
   },
   "file_extension": ".py",
   "mimetype": "text/x-python",
   "name": "python",
   "nbconvert_exporter": "python",
   "pygments_lexer": "ipython3",
   "version": "3.12.7"
  }
 },
 "nbformat": 4,
 "nbformat_minor": 5
}
